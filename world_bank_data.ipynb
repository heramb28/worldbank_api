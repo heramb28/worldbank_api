{
 "cells": [
  {
   "cell_type": "code",
   "execution_count": 1,
   "id": "df801771",
   "metadata": {},
   "outputs": [],
   "source": [
    "import numpy as np\n",
    "import pandas as pd\n",
    "import matplotlib.pyplot as plt\n",
    "import seaborn as sns\n",
    "import requests"
   ]
  },
  {
   "cell_type": "code",
   "execution_count": 2,
   "id": "70df9ee6",
   "metadata": {},
   "outputs": [],
   "source": [
    "class world_bank():\n",
    "    def __init__(self,indicator_string):\n",
    "        self.indicator_string=indicator_string\n",
    "        url='http://api.worldbank.org/v2/country/all/indicator/'\n",
    "        url=url+self.indicator_string+f\"?format=json\"\n",
    "        data=requests.get(url)\n",
    "        new_data=data.json()\n",
    "\n",
    "        page_n=new_data[0]['total']\n",
    "\n",
    "\n",
    "        url=url+f\"&per_page={page_n}\"\n",
    "\n",
    "        data=requests.get(url)\n",
    "        new_data=data.json()\n",
    "        \n",
    "        self.new_data=new_data[1]\n",
    "        \n",
    "        \n",
    "    def get_countries(self):\n",
    "        unique_country_names = []\n",
    "        for i in pd.DataFrame(self.new_data)['country']:\n",
    "            if i['value'] not in unique_country_names:\n",
    "                unique_country_names.append(i['value'])\n",
    "            \n",
    "        group_of_countries = []\n",
    "        countries = []\n",
    "        reached_afganistan = False\n",
    "        \n",
    "        for country in unique_country_names:\n",
    "            if reached_afganistan == False:\n",
    "            \n",
    "                if country == 'Afghanistan':\n",
    "                    reached_afganistan = True\n",
    "                    countries.append(country)\n",
    "                \n",
    "                elif country != 'Afghanistan':\n",
    "                    group_of_countries.append(country)\n",
    "\n",
    "            elif reached_afganistan == True:\n",
    "                countries.append(country)\n",
    "\n",
    "        return group_of_countries, countries\n",
    "        \n",
    "        \n",
    "    def get_indicator(self,country=None,name=None):\n",
    "        \n",
    "        if name==None:\n",
    "            name=self.indicator_string\n",
    "            \n",
    "        \n",
    "        dataset = []\n",
    "        \n",
    "        if country != None:\n",
    "            for i in self.new_data:\n",
    "\n",
    "                if i['country']['value'] in country:\n",
    "\n",
    "                    country_name = i['country']['value']\n",
    "                    date_value= int( i['date'] )\n",
    "\n",
    "                    if i['value'] != None:\n",
    "                        wb_indicator = i['value']\n",
    "\n",
    "                    else:\n",
    "                        wb_indicator = np.nan\n",
    "\n",
    "                    dataset.append([country_name,date_value,wb_indicator])\n",
    "        \n",
    "        else:\n",
    "            \n",
    "            for i in self.new_data:\n",
    "                country_name = i['country']['value']\n",
    "                date_value= int( i['date'] )\n",
    "\n",
    "                if i['value'] != None:\n",
    "                    wb_indicator = i['value']\n",
    "\n",
    "                else:\n",
    "                    wb_indicator = np.nan\n",
    "\n",
    "                dataset.append([country_name,date_value,wb_indicator])\n",
    "\n",
    "\n",
    "        return pd.DataFrame(dataset,columns=['country_name','date_value',name],index=None)\n",
    "    \n",
    "    \n",
    "    \n",
    "    "
   ]
  },
  {
   "cell_type": "code",
   "execution_count": 3,
   "id": "323136a2",
   "metadata": {},
   "outputs": [],
   "source": [
    "get_wb=world_bank('SE.SEC.CMPT.LO.FE.ZS')"
   ]
  },
  {
   "cell_type": "code",
   "execution_count": 4,
   "id": "016c3c76",
   "metadata": {},
   "outputs": [],
   "source": [
    "group_of_countries, countries=get_wb.get_countries()"
   ]
  },
  {
   "cell_type": "code",
   "execution_count": 5,
   "id": "c2ed1df8",
   "metadata": {},
   "outputs": [],
   "source": [
    "literacy_rate_female=get_wb.get_indicator(country=countries,name='literacy_rate_female')\n"
   ]
  },
  {
   "cell_type": "code",
   "execution_count": 6,
   "id": "de94159e",
   "metadata": {},
   "outputs": [],
   "source": [
    "get_wb=world_bank('SP.DYN.CBRT.IN')\n",
    "birth_rate=get_wb.get_indicator(country=countries,name='birth_rate')"
   ]
  },
  {
   "cell_type": "code",
   "execution_count": 7,
   "id": "1cebfab2",
   "metadata": {},
   "outputs": [
    {
     "data": {
      "text/plain": [
       "(13237, 13237)"
      ]
     },
     "execution_count": 7,
     "metadata": {},
     "output_type": "execute_result"
    }
   ],
   "source": [
    "len(literacy_rate_female), len(birth_rate)"
   ]
  },
  {
   "cell_type": "code",
   "execution_count": 8,
   "id": "b9cd611e",
   "metadata": {},
   "outputs": [
    {
     "data": {
      "text/html": [
       "<div>\n",
       "<style scoped>\n",
       "    .dataframe tbody tr th:only-of-type {\n",
       "        vertical-align: middle;\n",
       "    }\n",
       "\n",
       "    .dataframe tbody tr th {\n",
       "        vertical-align: top;\n",
       "    }\n",
       "\n",
       "    .dataframe thead th {\n",
       "        text-align: right;\n",
       "    }\n",
       "</style>\n",
       "<table border=\"1\" class=\"dataframe\">\n",
       "  <thead>\n",
       "    <tr style=\"text-align: right;\">\n",
       "      <th></th>\n",
       "      <th>country_name</th>\n",
       "      <th>date_value</th>\n",
       "      <th>literacy_rate_female</th>\n",
       "    </tr>\n",
       "  </thead>\n",
       "  <tbody>\n",
       "    <tr>\n",
       "      <th>0</th>\n",
       "      <td>Afghanistan</td>\n",
       "      <td>2020</td>\n",
       "      <td>NaN</td>\n",
       "    </tr>\n",
       "    <tr>\n",
       "      <th>1</th>\n",
       "      <td>Afghanistan</td>\n",
       "      <td>2019</td>\n",
       "      <td>43.127281</td>\n",
       "    </tr>\n",
       "    <tr>\n",
       "      <th>2</th>\n",
       "      <td>Afghanistan</td>\n",
       "      <td>2018</td>\n",
       "      <td>40.103439</td>\n",
       "    </tr>\n",
       "    <tr>\n",
       "      <th>3</th>\n",
       "      <td>Afghanistan</td>\n",
       "      <td>2017</td>\n",
       "      <td>38.553131</td>\n",
       "    </tr>\n",
       "    <tr>\n",
       "      <th>4</th>\n",
       "      <td>Afghanistan</td>\n",
       "      <td>2016</td>\n",
       "      <td>36.819771</td>\n",
       "    </tr>\n",
       "    <tr>\n",
       "      <th>...</th>\n",
       "      <td>...</td>\n",
       "      <td>...</td>\n",
       "      <td>...</td>\n",
       "    </tr>\n",
       "    <tr>\n",
       "      <th>13232</th>\n",
       "      <td>Zimbabwe</td>\n",
       "      <td>1964</td>\n",
       "      <td>NaN</td>\n",
       "    </tr>\n",
       "    <tr>\n",
       "      <th>13233</th>\n",
       "      <td>Zimbabwe</td>\n",
       "      <td>1963</td>\n",
       "      <td>NaN</td>\n",
       "    </tr>\n",
       "    <tr>\n",
       "      <th>13234</th>\n",
       "      <td>Zimbabwe</td>\n",
       "      <td>1962</td>\n",
       "      <td>NaN</td>\n",
       "    </tr>\n",
       "    <tr>\n",
       "      <th>13235</th>\n",
       "      <td>Zimbabwe</td>\n",
       "      <td>1961</td>\n",
       "      <td>NaN</td>\n",
       "    </tr>\n",
       "    <tr>\n",
       "      <th>13236</th>\n",
       "      <td>Zimbabwe</td>\n",
       "      <td>1960</td>\n",
       "      <td>NaN</td>\n",
       "    </tr>\n",
       "  </tbody>\n",
       "</table>\n",
       "<p>13237 rows × 3 columns</p>\n",
       "</div>"
      ],
      "text/plain": [
       "      country_name  date_value  literacy_rate_female\n",
       "0      Afghanistan        2020                   NaN\n",
       "1      Afghanistan        2019             43.127281\n",
       "2      Afghanistan        2018             40.103439\n",
       "3      Afghanistan        2017             38.553131\n",
       "4      Afghanistan        2016             36.819771\n",
       "...            ...         ...                   ...\n",
       "13232     Zimbabwe        1964                   NaN\n",
       "13233     Zimbabwe        1963                   NaN\n",
       "13234     Zimbabwe        1962                   NaN\n",
       "13235     Zimbabwe        1961                   NaN\n",
       "13236     Zimbabwe        1960                   NaN\n",
       "\n",
       "[13237 rows x 3 columns]"
      ]
     },
     "execution_count": 8,
     "metadata": {},
     "output_type": "execute_result"
    }
   ],
   "source": [
    "literacy_rate_female"
   ]
  },
  {
   "cell_type": "code",
   "execution_count": 9,
   "id": "23388995",
   "metadata": {},
   "outputs": [
    {
     "data": {
      "text/html": [
       "<div>\n",
       "<style scoped>\n",
       "    .dataframe tbody tr th:only-of-type {\n",
       "        vertical-align: middle;\n",
       "    }\n",
       "\n",
       "    .dataframe tbody tr th {\n",
       "        vertical-align: top;\n",
       "    }\n",
       "\n",
       "    .dataframe thead th {\n",
       "        text-align: right;\n",
       "    }\n",
       "</style>\n",
       "<table border=\"1\" class=\"dataframe\">\n",
       "  <thead>\n",
       "    <tr style=\"text-align: right;\">\n",
       "      <th></th>\n",
       "      <th>country_name</th>\n",
       "      <th>date_value</th>\n",
       "      <th>literacy_rate_female</th>\n",
       "      <th>birth_rate</th>\n",
       "    </tr>\n",
       "  </thead>\n",
       "  <tbody>\n",
       "    <tr>\n",
       "      <th>0</th>\n",
       "      <td>Afghanistan</td>\n",
       "      <td>2020</td>\n",
       "      <td>NaN</td>\n",
       "      <td>NaN</td>\n",
       "    </tr>\n",
       "    <tr>\n",
       "      <th>1</th>\n",
       "      <td>Afghanistan</td>\n",
       "      <td>2019</td>\n",
       "      <td>43.127281</td>\n",
       "      <td>31.802</td>\n",
       "    </tr>\n",
       "    <tr>\n",
       "      <th>2</th>\n",
       "      <td>Afghanistan</td>\n",
       "      <td>2018</td>\n",
       "      <td>40.103439</td>\n",
       "      <td>32.487</td>\n",
       "    </tr>\n",
       "    <tr>\n",
       "      <th>3</th>\n",
       "      <td>Afghanistan</td>\n",
       "      <td>2017</td>\n",
       "      <td>38.553131</td>\n",
       "      <td>33.211</td>\n",
       "    </tr>\n",
       "    <tr>\n",
       "      <th>4</th>\n",
       "      <td>Afghanistan</td>\n",
       "      <td>2016</td>\n",
       "      <td>36.819771</td>\n",
       "      <td>33.981</td>\n",
       "    </tr>\n",
       "    <tr>\n",
       "      <th>...</th>\n",
       "      <td>...</td>\n",
       "      <td>...</td>\n",
       "      <td>...</td>\n",
       "      <td>...</td>\n",
       "    </tr>\n",
       "    <tr>\n",
       "      <th>13232</th>\n",
       "      <td>Zimbabwe</td>\n",
       "      <td>1964</td>\n",
       "      <td>NaN</td>\n",
       "      <td>47.770</td>\n",
       "    </tr>\n",
       "    <tr>\n",
       "      <th>13233</th>\n",
       "      <td>Zimbabwe</td>\n",
       "      <td>1963</td>\n",
       "      <td>NaN</td>\n",
       "      <td>47.876</td>\n",
       "    </tr>\n",
       "    <tr>\n",
       "      <th>13234</th>\n",
       "      <td>Zimbabwe</td>\n",
       "      <td>1962</td>\n",
       "      <td>NaN</td>\n",
       "      <td>47.950</td>\n",
       "    </tr>\n",
       "    <tr>\n",
       "      <th>13235</th>\n",
       "      <td>Zimbabwe</td>\n",
       "      <td>1961</td>\n",
       "      <td>NaN</td>\n",
       "      <td>47.988</td>\n",
       "    </tr>\n",
       "    <tr>\n",
       "      <th>13236</th>\n",
       "      <td>Zimbabwe</td>\n",
       "      <td>1960</td>\n",
       "      <td>NaN</td>\n",
       "      <td>47.996</td>\n",
       "    </tr>\n",
       "  </tbody>\n",
       "</table>\n",
       "<p>13237 rows × 4 columns</p>\n",
       "</div>"
      ],
      "text/plain": [
       "      country_name  date_value  literacy_rate_female  birth_rate\n",
       "0      Afghanistan        2020                   NaN         NaN\n",
       "1      Afghanistan        2019             43.127281      31.802\n",
       "2      Afghanistan        2018             40.103439      32.487\n",
       "3      Afghanistan        2017             38.553131      33.211\n",
       "4      Afghanistan        2016             36.819771      33.981\n",
       "...            ...         ...                   ...         ...\n",
       "13232     Zimbabwe        1964                   NaN      47.770\n",
       "13233     Zimbabwe        1963                   NaN      47.876\n",
       "13234     Zimbabwe        1962                   NaN      47.950\n",
       "13235     Zimbabwe        1961                   NaN      47.988\n",
       "13236     Zimbabwe        1960                   NaN      47.996\n",
       "\n",
       "[13237 rows x 4 columns]"
      ]
     },
     "execution_count": 9,
     "metadata": {},
     "output_type": "execute_result"
    }
   ],
   "source": [
    "birth_rate_literacy=pd.merge(literacy_rate_female,birth_rate,on=['country_name','date_value'],how='left')\n",
    "birth_rate_literacy"
   ]
  },
  {
   "cell_type": "code",
   "execution_count": 10,
   "id": "aeba0037",
   "metadata": {},
   "outputs": [
    {
     "data": {
      "text/plain": [
       "<AxesSubplot:>"
      ]
     },
     "execution_count": 10,
     "metadata": {},
     "output_type": "execute_result"
    },
    {
     "data": {
      "image/png": "[encoded data removed]",
      "text/plain": [
       "<Figure size 432x288 with 2 Axes>"
      ]
     },
     "metadata": {
      "needs_background": "light"
     },
     "output_type": "display_data"
    }
   ],
   "source": [
    "sns.heatmap(data=birth_rate_literacy.isnull())"
   ]
  },
  {
   "cell_type": "code",
   "execution_count": 11,
   "id": "44dd87a7",
   "metadata": {},
   "outputs": [
    {
     "data": {
      "text/plain": [
       "3590"
      ]
     },
     "execution_count": 11,
     "metadata": {},
     "output_type": "execute_result"
    }
   ],
   "source": [
    "birth_rate_literacy['literacy_rate_female'].notnull().sum()"
   ]
  },
  {
   "cell_type": "code",
   "execution_count": 12,
   "id": "8df4ca76",
   "metadata": {},
   "outputs": [
    {
     "data": {
      "text/html": [
       "<div>\n",
       "<style scoped>\n",
       "    .dataframe tbody tr th:only-of-type {\n",
       "        vertical-align: middle;\n",
       "    }\n",
       "\n",
       "    .dataframe tbody tr th {\n",
       "        vertical-align: top;\n",
       "    }\n",
       "\n",
       "    .dataframe thead th {\n",
       "        text-align: right;\n",
       "    }\n",
       "</style>\n",
       "<table border=\"1\" class=\"dataframe\">\n",
       "  <thead>\n",
       "    <tr style=\"text-align: right;\">\n",
       "      <th></th>\n",
       "      <th>country_name</th>\n",
       "      <th>date_value</th>\n",
       "      <th>literacy_rate_female</th>\n",
       "      <th>birth_rate</th>\n",
       "    </tr>\n",
       "  </thead>\n",
       "  <tbody>\n",
       "    <tr>\n",
       "      <th>1</th>\n",
       "      <td>Afghanistan</td>\n",
       "      <td>2019</td>\n",
       "      <td>43.127281</td>\n",
       "      <td>31.802</td>\n",
       "    </tr>\n",
       "    <tr>\n",
       "      <th>2</th>\n",
       "      <td>Afghanistan</td>\n",
       "      <td>2018</td>\n",
       "      <td>40.103439</td>\n",
       "      <td>32.487</td>\n",
       "    </tr>\n",
       "    <tr>\n",
       "      <th>3</th>\n",
       "      <td>Afghanistan</td>\n",
       "      <td>2017</td>\n",
       "      <td>38.553131</td>\n",
       "      <td>33.211</td>\n",
       "    </tr>\n",
       "    <tr>\n",
       "      <th>4</th>\n",
       "      <td>Afghanistan</td>\n",
       "      <td>2016</td>\n",
       "      <td>36.819771</td>\n",
       "      <td>33.981</td>\n",
       "    </tr>\n",
       "    <tr>\n",
       "      <th>15</th>\n",
       "      <td>Afghanistan</td>\n",
       "      <td>2005</td>\n",
       "      <td>8.932230</td>\n",
       "      <td>44.723</td>\n",
       "    </tr>\n",
       "    <tr>\n",
       "      <th>...</th>\n",
       "      <td>...</td>\n",
       "      <td>...</td>\n",
       "      <td>...</td>\n",
       "      <td>...</td>\n",
       "    </tr>\n",
       "    <tr>\n",
       "      <th>13181</th>\n",
       "      <td>Zimbabwe</td>\n",
       "      <td>2015</td>\n",
       "      <td>62.563049</td>\n",
       "      <td>33.981</td>\n",
       "    </tr>\n",
       "    <tr>\n",
       "      <th>13182</th>\n",
       "      <td>Zimbabwe</td>\n",
       "      <td>2014</td>\n",
       "      <td>73.652512</td>\n",
       "      <td>34.978</td>\n",
       "    </tr>\n",
       "    <tr>\n",
       "      <th>13183</th>\n",
       "      <td>Zimbabwe</td>\n",
       "      <td>2013</td>\n",
       "      <td>71.939911</td>\n",
       "      <td>35.768</td>\n",
       "    </tr>\n",
       "    <tr>\n",
       "      <th>13184</th>\n",
       "      <td>Zimbabwe</td>\n",
       "      <td>2012</td>\n",
       "      <td>70.399910</td>\n",
       "      <td>36.292</td>\n",
       "    </tr>\n",
       "    <tr>\n",
       "      <th>13212</th>\n",
       "      <td>Zimbabwe</td>\n",
       "      <td>1984</td>\n",
       "      <td>41.944038</td>\n",
       "      <td>41.450</td>\n",
       "    </tr>\n",
       "  </tbody>\n",
       "</table>\n",
       "<p>3468 rows × 4 columns</p>\n",
       "</div>"
      ],
      "text/plain": [
       "      country_name  date_value  literacy_rate_female  birth_rate\n",
       "1      Afghanistan        2019             43.127281      31.802\n",
       "2      Afghanistan        2018             40.103439      32.487\n",
       "3      Afghanistan        2017             38.553131      33.211\n",
       "4      Afghanistan        2016             36.819771      33.981\n",
       "15     Afghanistan        2005              8.932230      44.723\n",
       "...            ...         ...                   ...         ...\n",
       "13181     Zimbabwe        2015             62.563049      33.981\n",
       "13182     Zimbabwe        2014             73.652512      34.978\n",
       "13183     Zimbabwe        2013             71.939911      35.768\n",
       "13184     Zimbabwe        2012             70.399910      36.292\n",
       "13212     Zimbabwe        1984             41.944038      41.450\n",
       "\n",
       "[3468 rows x 4 columns]"
      ]
     },
     "execution_count": 12,
     "metadata": {},
     "output_type": "execute_result"
    }
   ],
   "source": [
    "birth_rate_literacy= birth_rate_literacy.dropna()\n",
    "birth_rate_literacy"
   ]
  },
  {
   "cell_type": "code",
   "execution_count": 13,
   "id": "81bb7e85",
   "metadata": {},
   "outputs": [
    {
     "data": {
      "text/html": [
       "<div>\n",
       "<style scoped>\n",
       "    .dataframe tbody tr th:only-of-type {\n",
       "        vertical-align: middle;\n",
       "    }\n",
       "\n",
       "    .dataframe tbody tr th {\n",
       "        vertical-align: top;\n",
       "    }\n",
       "\n",
       "    .dataframe thead th {\n",
       "        text-align: right;\n",
       "    }\n",
       "</style>\n",
       "<table border=\"1\" class=\"dataframe\">\n",
       "  <thead>\n",
       "    <tr style=\"text-align: right;\">\n",
       "      <th></th>\n",
       "      <th>country_name</th>\n",
       "      <th>date_value</th>\n",
       "      <th>literacy_rate_female</th>\n",
       "      <th>birth_rate</th>\n",
       "    </tr>\n",
       "  </thead>\n",
       "  <tbody>\n",
       "    <tr>\n",
       "      <th>5430</th>\n",
       "      <td>India</td>\n",
       "      <td>2019.0</td>\n",
       "      <td>85.295357</td>\n",
       "      <td>17.644</td>\n",
       "    </tr>\n",
       "    <tr>\n",
       "      <th>5432</th>\n",
       "      <td>India</td>\n",
       "      <td>2017.0</td>\n",
       "      <td>87.854462</td>\n",
       "      <td>18.083</td>\n",
       "    </tr>\n",
       "    <tr>\n",
       "      <th>5433</th>\n",
       "      <td>India</td>\n",
       "      <td>2016.0</td>\n",
       "      <td>88.972900</td>\n",
       "      <td>18.332</td>\n",
       "    </tr>\n",
       "    <tr>\n",
       "      <th>5434</th>\n",
       "      <td>India</td>\n",
       "      <td>2015.0</td>\n",
       "      <td>88.395126</td>\n",
       "      <td>18.625</td>\n",
       "    </tr>\n",
       "    <tr>\n",
       "      <th>5435</th>\n",
       "      <td>India</td>\n",
       "      <td>2014.0</td>\n",
       "      <td>88.440247</td>\n",
       "      <td>18.984</td>\n",
       "    </tr>\n",
       "    <tr>\n",
       "      <th>5436</th>\n",
       "      <td>India</td>\n",
       "      <td>2013.0</td>\n",
       "      <td>83.715622</td>\n",
       "      <td>19.416</td>\n",
       "    </tr>\n",
       "    <tr>\n",
       "      <th>5438</th>\n",
       "      <td>India</td>\n",
       "      <td>2011.0</td>\n",
       "      <td>75.686798</td>\n",
       "      <td>20.495</td>\n",
       "    </tr>\n",
       "    <tr>\n",
       "      <th>5441</th>\n",
       "      <td>India</td>\n",
       "      <td>2008.0</td>\n",
       "      <td>65.499802</td>\n",
       "      <td>22.390</td>\n",
       "    </tr>\n",
       "    <tr>\n",
       "      <th>5443</th>\n",
       "      <td>India</td>\n",
       "      <td>2006.0</td>\n",
       "      <td>58.442268</td>\n",
       "      <td>23.564</td>\n",
       "    </tr>\n",
       "    <tr>\n",
       "      <th>5446</th>\n",
       "      <td>India</td>\n",
       "      <td>2003.0</td>\n",
       "      <td>51.362068</td>\n",
       "      <td>25.034</td>\n",
       "    </tr>\n",
       "    <tr>\n",
       "      <th>5447</th>\n",
       "      <td>India</td>\n",
       "      <td>2002.0</td>\n",
       "      <td>46.171082</td>\n",
       "      <td>25.489</td>\n",
       "    </tr>\n",
       "    <tr>\n",
       "      <th>5460</th>\n",
       "      <td>India</td>\n",
       "      <td>1989.0</td>\n",
       "      <td>31.131420</td>\n",
       "      <td>32.121</td>\n",
       "    </tr>\n",
       "    <tr>\n",
       "      <th>5461</th>\n",
       "      <td>India</td>\n",
       "      <td>1988.0</td>\n",
       "      <td>31.042561</td>\n",
       "      <td>32.726</td>\n",
       "    </tr>\n",
       "    <tr>\n",
       "      <th>5462</th>\n",
       "      <td>India</td>\n",
       "      <td>1987.0</td>\n",
       "      <td>29.648041</td>\n",
       "      <td>33.320</td>\n",
       "    </tr>\n",
       "  </tbody>\n",
       "</table>\n",
       "</div>"
      ],
      "text/plain": [
       "     country_name  date_value  literacy_rate_female  birth_rate\n",
       "5430        India      2019.0             85.295357      17.644\n",
       "5432        India      2017.0             87.854462      18.083\n",
       "5433        India      2016.0             88.972900      18.332\n",
       "5434        India      2015.0             88.395126      18.625\n",
       "5435        India      2014.0             88.440247      18.984\n",
       "5436        India      2013.0             83.715622      19.416\n",
       "5438        India      2011.0             75.686798      20.495\n",
       "5441        India      2008.0             65.499802      22.390\n",
       "5443        India      2006.0             58.442268      23.564\n",
       "5446        India      2003.0             51.362068      25.034\n",
       "5447        India      2002.0             46.171082      25.489\n",
       "5460        India      1989.0             31.131420      32.121\n",
       "5461        India      1988.0             31.042561      32.726\n",
       "5462        India      1987.0             29.648041      33.320"
      ]
     },
     "execution_count": 13,
     "metadata": {},
     "output_type": "execute_result"
    }
   ],
   "source": [
    "india=(birth_rate_literacy.where(birth_rate_literacy['country_name']=='India')).dropna()\n",
    "india"
   ]
  },
  {
   "cell_type": "code",
   "execution_count": 14,
   "id": "f4f1f334",
   "metadata": {},
   "outputs": [
    {
     "data": {
      "text/plain": [
       "Text(0, 0.5, 'birth_rate')"
      ]
     },
     "execution_count": 14,
     "metadata": {},
     "output_type": "execute_result"
    },
    {
     "data": {
      "image/png": "[encoded data removed]",
      "text/plain": [
       "<Figure size 432x288 with 1 Axes>"
      ]
     },
     "metadata": {
      "needs_background": "light"
     },
     "output_type": "display_data"
    }
   ],
   "source": [
    "plt.scatter(india['literacy_rate_female'],india['birth_rate'])\n",
    "plt.xlabel('literacy_rate_female')\n",
    "plt.ylabel('birth_rate')"
   ]
  },
  {
   "cell_type": "code",
   "execution_count": 15,
   "id": "51302ab6",
   "metadata": {},
   "outputs": [
    {
     "data": {
      "text/plain": [
       "Text(0, 0.5, 'birth_rate')"
      ]
     },
     "execution_count": 15,
     "metadata": {},
     "output_type": "execute_result"
    },
    {
     "data": {
      "image/png": "[encoded data removed]",
      "text/plain": [
       "<Figure size 432x288 with 1 Axes>"
      ]
     },
     "metadata": {
      "needs_background": "light"
     },
     "output_type": "display_data"
    }
   ],
   "source": [
    "plt.scatter(birth_rate_literacy['literacy_rate_female'],birth_rate_literacy['birth_rate'])\n",
    "plt.xlabel('literacy_rate_female')\n",
    "plt.ylabel('birth_rate')"
   ]
  },
  {
   "cell_type": "code",
   "execution_count": 16,
   "id": "8f56bc75",
   "metadata": {},
   "outputs": [
    {
     "data": {
      "text/plain": [
       "literacy_rate_female    1.000000\n",
       "date_value              0.511121\n",
       "birth_rate             -0.857604\n",
       "Name: literacy_rate_female, dtype: float64"
      ]
     },
     "execution_count": 16,
     "metadata": {},
     "output_type": "execute_result"
    }
   ],
   "source": [
    "corelation=birth_rate_literacy.corr()\n",
    "corelation['literacy_rate_female'].sort_values(ascending=False)"
   ]
  },
  {
   "cell_type": "markdown",
   "id": "7c63ee16",
   "metadata": {},
   "source": [
    "# Observation\n",
    "Female Litercy and Birth rate has a negative correlation"
   ]
  },
  {
   "cell_type": "code",
   "execution_count": null,
   "id": "33f5756d",
   "metadata": {},
   "outputs": [],
   "source": []
  },
  {
   "cell_type": "code",
   "execution_count": null,
   "id": "b326af0e",
   "metadata": {},
   "outputs": [],
   "source": []
  }
 ],
 "metadata": {
  "kernelspec": {
   "display_name": "Python 3 (ipykernel)",
   "language": "python",
   "name": "python3"
  },
  "language_info": {
   "codemirror_mode": {
    "name": "ipython",
    "version": 3
   },
   "file_extension": ".py",
   "mimetype": "text/x-python",
   "name": "python",
   "nbconvert_exporter": "python",
   "pygments_lexer": "ipython3",
   "version": "3.8.10"
  }
 },
 "nbformat": 4,
 "nbformat_minor": 5
}
